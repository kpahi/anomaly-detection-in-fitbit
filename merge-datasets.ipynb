{
 "cells": [
  {
   "cell_type": "code",
   "execution_count": 1,
   "id": "ac4e4dac-204a-4ffd-951a-bb2e0163b392",
   "metadata": {},
   "outputs": [],
   "source": [
    "import pandas as pd\n",
    "import numpy as np\n",
    "import matplotlib.pyplot as plt\n"
   ]
  },
  {
   "cell_type": "code",
   "execution_count": 2,
   "id": "61e55589-45ec-4ae7-a05a-b5074b57472f",
   "metadata": {},
   "outputs": [],
   "source": [
    "# load calories and steps csv data\n",
    "minute_calories_narrow = pd.read_csv('datasets/minuteCaloriesNarrow_merged.csv')\n",
    "minute_steps_narrow = pd.read_csv('datasets/minuteStepsNarrow_merged.csv')"
   ]
  },
  {
   "cell_type": "code",
   "execution_count": 3,
   "id": "ac1e11fa-8c8c-42b1-b6a9-63d6dbf2c4ed",
   "metadata": {},
   "outputs": [
    {
     "data": {
      "text/plain": [
       "(1325580, 4)"
      ]
     },
     "execution_count": 3,
     "metadata": {},
     "output_type": "execute_result"
    }
   ],
   "source": [
    "# merge calories and steps on minute level.\n",
    "minute_detail = pd.merge(minute_calories_narrow, minute_steps_narrow, on=['Id', 'ActivityMinute'])\n",
    "minute_detail.shape"
   ]
  },
  {
   "cell_type": "code",
   "execution_count": 4,
   "id": "03f787e8-3b02-420f-bd2d-9852092bacf3",
   "metadata": {},
   "outputs": [
    {
     "data": {
      "text/html": [
       "<div>\n",
       "<style scoped>\n",
       "    .dataframe tbody tr th:only-of-type {\n",
       "        vertical-align: middle;\n",
       "    }\n",
       "\n",
       "    .dataframe tbody tr th {\n",
       "        vertical-align: top;\n",
       "    }\n",
       "\n",
       "    .dataframe thead th {\n",
       "        text-align: right;\n",
       "    }\n",
       "</style>\n",
       "<table border=\"1\" class=\"dataframe\">\n",
       "  <thead>\n",
       "    <tr style=\"text-align: right;\">\n",
       "      <th></th>\n",
       "      <th>Id</th>\n",
       "      <th>ActivityMinute</th>\n",
       "      <th>Calories</th>\n",
       "      <th>Steps</th>\n",
       "    </tr>\n",
       "  </thead>\n",
       "  <tbody>\n",
       "    <tr>\n",
       "      <th>0</th>\n",
       "      <td>1503960366</td>\n",
       "      <td>4/12/2016 12:00:00 AM</td>\n",
       "      <td>0.7865</td>\n",
       "      <td>0</td>\n",
       "    </tr>\n",
       "    <tr>\n",
       "      <th>1</th>\n",
       "      <td>1503960366</td>\n",
       "      <td>4/12/2016 12:01:00 AM</td>\n",
       "      <td>0.7865</td>\n",
       "      <td>0</td>\n",
       "    </tr>\n",
       "    <tr>\n",
       "      <th>2</th>\n",
       "      <td>1503960366</td>\n",
       "      <td>4/12/2016 12:02:00 AM</td>\n",
       "      <td>0.7865</td>\n",
       "      <td>0</td>\n",
       "    </tr>\n",
       "    <tr>\n",
       "      <th>3</th>\n",
       "      <td>1503960366</td>\n",
       "      <td>4/12/2016 12:03:00 AM</td>\n",
       "      <td>0.7865</td>\n",
       "      <td>0</td>\n",
       "    </tr>\n",
       "    <tr>\n",
       "      <th>4</th>\n",
       "      <td>1503960366</td>\n",
       "      <td>4/12/2016 12:04:00 AM</td>\n",
       "      <td>0.7865</td>\n",
       "      <td>0</td>\n",
       "    </tr>\n",
       "  </tbody>\n",
       "</table>\n",
       "</div>"
      ],
      "text/plain": [
       "           Id         ActivityMinute  Calories  Steps\n",
       "0  1503960366  4/12/2016 12:00:00 AM    0.7865      0\n",
       "1  1503960366  4/12/2016 12:01:00 AM    0.7865      0\n",
       "2  1503960366  4/12/2016 12:02:00 AM    0.7865      0\n",
       "3  1503960366  4/12/2016 12:03:00 AM    0.7865      0\n",
       "4  1503960366  4/12/2016 12:04:00 AM    0.7865      0"
      ]
     },
     "execution_count": 4,
     "metadata": {},
     "output_type": "execute_result"
    }
   ],
   "source": [
    "minute_detail.head()"
   ]
  },
  {
   "cell_type": "code",
   "execution_count": 5,
   "id": "1ca24934-e1a5-454c-93bd-ee2d7540f3d1",
   "metadata": {},
   "outputs": [
    {
     "data": {
      "text/html": [
       "<div>\n",
       "<style scoped>\n",
       "    .dataframe tbody tr th:only-of-type {\n",
       "        vertical-align: middle;\n",
       "    }\n",
       "\n",
       "    .dataframe tbody tr th {\n",
       "        vertical-align: top;\n",
       "    }\n",
       "\n",
       "    .dataframe thead th {\n",
       "        text-align: right;\n",
       "    }\n",
       "</style>\n",
       "<table border=\"1\" class=\"dataframe\">\n",
       "  <thead>\n",
       "    <tr style=\"text-align: right;\">\n",
       "      <th></th>\n",
       "      <th>Id</th>\n",
       "      <th>Time</th>\n",
       "      <th>Value</th>\n",
       "    </tr>\n",
       "  </thead>\n",
       "  <tbody>\n",
       "    <tr>\n",
       "      <th>0</th>\n",
       "      <td>2022484408</td>\n",
       "      <td>4/12/2016 7:21:00 AM</td>\n",
       "      <td>97</td>\n",
       "    </tr>\n",
       "    <tr>\n",
       "      <th>1</th>\n",
       "      <td>2022484408</td>\n",
       "      <td>4/12/2016 7:21:05 AM</td>\n",
       "      <td>102</td>\n",
       "    </tr>\n",
       "    <tr>\n",
       "      <th>2</th>\n",
       "      <td>2022484408</td>\n",
       "      <td>4/12/2016 7:21:10 AM</td>\n",
       "      <td>105</td>\n",
       "    </tr>\n",
       "    <tr>\n",
       "      <th>3</th>\n",
       "      <td>2022484408</td>\n",
       "      <td>4/12/2016 7:21:20 AM</td>\n",
       "      <td>103</td>\n",
       "    </tr>\n",
       "    <tr>\n",
       "      <th>4</th>\n",
       "      <td>2022484408</td>\n",
       "      <td>4/12/2016 7:21:25 AM</td>\n",
       "      <td>101</td>\n",
       "    </tr>\n",
       "  </tbody>\n",
       "</table>\n",
       "</div>"
      ],
      "text/plain": [
       "           Id                  Time  Value\n",
       "0  2022484408  4/12/2016 7:21:00 AM     97\n",
       "1  2022484408  4/12/2016 7:21:05 AM    102\n",
       "2  2022484408  4/12/2016 7:21:10 AM    105\n",
       "3  2022484408  4/12/2016 7:21:20 AM    103\n",
       "4  2022484408  4/12/2016 7:21:25 AM    101"
      ]
     },
     "execution_count": 5,
     "metadata": {},
     "output_type": "execute_result"
    }
   ],
   "source": [
    "# load heartrate csv data\n",
    "heartrate = pd.read_csv('datasets/heartrate_seconds_merged.csv')\n",
    "heartrate.head()"
   ]
  },
  {
   "cell_type": "code",
   "execution_count": 14,
   "id": "e622dc42-c876-408a-b2e4-36c157d7b807",
   "metadata": {},
   "outputs": [
    {
     "data": {
      "text/plain": [
       "(2483658, 3)"
      ]
     },
     "execution_count": 14,
     "metadata": {},
     "output_type": "execute_result"
    }
   ],
   "source": [
    "heartrate.shape"
   ]
  },
  {
   "cell_type": "markdown",
   "id": "8717f31f-65c0-4145-b77f-43d92f4aa5c4",
   "metadata": {},
   "source": [
    "### Merge into single dataframe \n",
    "- fitbit records heartrate data in every 5 seconds(It is a snapshot).\n",
    "- take the heartrate's snapshot in that particular minute when calories and steps were recorded."
   ]
  },
  {
   "cell_type": "code",
   "execution_count": 6,
   "id": "d31f9543-f9ee-49b0-8f30-daa17f077031",
   "metadata": {},
   "outputs": [],
   "source": [
    "\n",
    "minute_detail = pd.merge(minute_detail, heartrate, how='left', left_on=['Id', 'ActivityMinute'], right_on=['Id', 'Time'])"
   ]
  },
  {
   "cell_type": "markdown",
   "id": "887ee9ba-3c99-48df-a149-8193942d6395",
   "metadata": {},
   "source": [
    "### Drop NA values.\n",
    "- All users didn't have heart rate data available."
   ]
  },
  {
   "cell_type": "code",
   "execution_count": 15,
   "id": "5b766334-7ef0-4484-9444-8b9ad69846d4",
   "metadata": {},
   "outputs": [
    {
     "name": "stdout",
     "output_type": "stream",
     "text": [
      "(200073, 5) (2483658, 3)\n"
     ]
    }
   ],
   "source": [
    "minute_detail = minute_detail.dropna()\n",
    "minute_detail = minute_detail.drop('Time', axis=1)\n",
    "print(minute_detail.shape, heartrate.shape)"
   ]
  },
  {
   "cell_type": "code",
   "execution_count": 16,
   "id": "e8b2d8ec-a57c-4970-9482-00f5e6295186",
   "metadata": {},
   "outputs": [
    {
     "data": {
      "text/html": [
       "<div>\n",
       "<style scoped>\n",
       "    .dataframe tbody tr th:only-of-type {\n",
       "        vertical-align: middle;\n",
       "    }\n",
       "\n",
       "    .dataframe tbody tr th {\n",
       "        vertical-align: top;\n",
       "    }\n",
       "\n",
       "    .dataframe thead th {\n",
       "        text-align: right;\n",
       "    }\n",
       "</style>\n",
       "<table border=\"1\" class=\"dataframe\">\n",
       "  <thead>\n",
       "    <tr style=\"text-align: right;\">\n",
       "      <th></th>\n",
       "      <th>Id</th>\n",
       "      <th>ActivityMinute</th>\n",
       "      <th>Calories</th>\n",
       "      <th>Steps</th>\n",
       "      <th>Value</th>\n",
       "    </tr>\n",
       "  </thead>\n",
       "  <tbody>\n",
       "    <tr>\n",
       "      <th>0</th>\n",
       "      <td>2022484408</td>\n",
       "      <td>4/12/2016 7:21:00 AM</td>\n",
       "      <td>3.32064</td>\n",
       "      <td>17</td>\n",
       "      <td>97.0</td>\n",
       "    </tr>\n",
       "    <tr>\n",
       "      <th>1</th>\n",
       "      <td>2022484408</td>\n",
       "      <td>4/12/2016 7:23:00 AM</td>\n",
       "      <td>1.34901</td>\n",
       "      <td>0</td>\n",
       "      <td>60.0</td>\n",
       "    </tr>\n",
       "    <tr>\n",
       "      <th>2</th>\n",
       "      <td>2022484408</td>\n",
       "      <td>4/12/2016 7:24:00 AM</td>\n",
       "      <td>1.03770</td>\n",
       "      <td>0</td>\n",
       "      <td>58.0</td>\n",
       "    </tr>\n",
       "    <tr>\n",
       "      <th>3</th>\n",
       "      <td>2022484408</td>\n",
       "      <td>4/12/2016 7:26:00 AM</td>\n",
       "      <td>2.49048</td>\n",
       "      <td>7</td>\n",
       "      <td>53.0</td>\n",
       "    </tr>\n",
       "    <tr>\n",
       "      <th>4</th>\n",
       "      <td>2022484408</td>\n",
       "      <td>4/12/2016 7:27:00 AM</td>\n",
       "      <td>1.03770</td>\n",
       "      <td>0</td>\n",
       "      <td>53.0</td>\n",
       "    </tr>\n",
       "  </tbody>\n",
       "</table>\n",
       "</div>"
      ],
      "text/plain": [
       "           Id        ActivityMinute  Calories  Steps  Value\n",
       "0  2022484408  4/12/2016 7:21:00 AM   3.32064     17   97.0\n",
       "1  2022484408  4/12/2016 7:23:00 AM   1.34901      0   60.0\n",
       "2  2022484408  4/12/2016 7:24:00 AM   1.03770      0   58.0\n",
       "3  2022484408  4/12/2016 7:26:00 AM   2.49048      7   53.0\n",
       "4  2022484408  4/12/2016 7:27:00 AM   1.03770      0   53.0"
      ]
     },
     "execution_count": 16,
     "metadata": {},
     "output_type": "execute_result"
    }
   ],
   "source": [
    "minute_detail.head()"
   ]
  },
  {
   "cell_type": "markdown",
   "id": "b9846bd8-e564-4e30-baba-bf844eb1bcd6",
   "metadata": {},
   "source": [
    "No. of users that have all three records (heartrate, calories, steps) is 14."
   ]
  },
  {
   "cell_type": "code",
   "execution_count": 17,
   "id": "85c94635-2e24-4d4f-b3b6-6a7c7ab3d3e6",
   "metadata": {},
   "outputs": [
    {
     "data": {
      "text/plain": [
       "14"
      ]
     },
     "execution_count": 17,
     "metadata": {},
     "output_type": "execute_result"
    }
   ],
   "source": [
    "minute_detail.Id.nunique()"
   ]
  },
  {
   "cell_type": "code",
   "execution_count": 18,
   "id": "05ff4aee-b574-4d78-a5a3-cb3c24e4057d",
   "metadata": {},
   "outputs": [
    {
     "data": {
      "text/plain": [
       "4388161847    26588\n",
       "6962181067    25926\n",
       "5553957443    23880\n",
       "5577150313    22336\n",
       "4558609924    17895\n",
       "6117666160    16796\n",
       "2347167796    15157\n",
       "8792009665    13509\n",
       "2022484408    13358\n",
       "7007744171    12385\n",
       "4020332650     4790\n",
       "8877689391     3885\n",
       "6775888955     3331\n",
       "2026352035      237\n",
       "Name: Id, dtype: int64"
      ]
     },
     "execution_count": 18,
     "metadata": {},
     "output_type": "execute_result"
    }
   ],
   "source": [
    "minute_detail.Id.value_counts()"
   ]
  },
  {
   "cell_type": "code",
   "execution_count": 19,
   "id": "d7c56015-dd45-4048-a1b0-bfd1d635bca7",
   "metadata": {},
   "outputs": [],
   "source": [
    "# Save to CSV\n",
    "minute_detail.reset_index(inplace=True, drop=True)\n",
    "minute_detail.to_csv('all-merged.csv',index=False)"
   ]
  },
  {
   "cell_type": "code",
   "execution_count": 20,
   "id": "ca608706-1307-45a1-ae78-9bed830819b4",
   "metadata": {},
   "outputs": [
    {
     "data": {
      "text/html": [
       "<div>\n",
       "<style scoped>\n",
       "    .dataframe tbody tr th:only-of-type {\n",
       "        vertical-align: middle;\n",
       "    }\n",
       "\n",
       "    .dataframe tbody tr th {\n",
       "        vertical-align: top;\n",
       "    }\n",
       "\n",
       "    .dataframe thead th {\n",
       "        text-align: right;\n",
       "    }\n",
       "</style>\n",
       "<table border=\"1\" class=\"dataframe\">\n",
       "  <thead>\n",
       "    <tr style=\"text-align: right;\">\n",
       "      <th></th>\n",
       "      <th>Id</th>\n",
       "      <th>ActivityMinute</th>\n",
       "      <th>Calories</th>\n",
       "      <th>Steps</th>\n",
       "      <th>Value</th>\n",
       "    </tr>\n",
       "  </thead>\n",
       "  <tbody>\n",
       "    <tr>\n",
       "      <th>0</th>\n",
       "      <td>2022484408</td>\n",
       "      <td>4/12/2016 7:21:00 AM</td>\n",
       "      <td>3.32064</td>\n",
       "      <td>17</td>\n",
       "      <td>97.0</td>\n",
       "    </tr>\n",
       "    <tr>\n",
       "      <th>1</th>\n",
       "      <td>2022484408</td>\n",
       "      <td>4/12/2016 7:23:00 AM</td>\n",
       "      <td>1.34901</td>\n",
       "      <td>0</td>\n",
       "      <td>60.0</td>\n",
       "    </tr>\n",
       "    <tr>\n",
       "      <th>2</th>\n",
       "      <td>2022484408</td>\n",
       "      <td>4/12/2016 7:24:00 AM</td>\n",
       "      <td>1.03770</td>\n",
       "      <td>0</td>\n",
       "      <td>58.0</td>\n",
       "    </tr>\n",
       "    <tr>\n",
       "      <th>3</th>\n",
       "      <td>2022484408</td>\n",
       "      <td>4/12/2016 7:26:00 AM</td>\n",
       "      <td>2.49048</td>\n",
       "      <td>7</td>\n",
       "      <td>53.0</td>\n",
       "    </tr>\n",
       "    <tr>\n",
       "      <th>4</th>\n",
       "      <td>2022484408</td>\n",
       "      <td>4/12/2016 7:27:00 AM</td>\n",
       "      <td>1.03770</td>\n",
       "      <td>0</td>\n",
       "      <td>53.0</td>\n",
       "    </tr>\n",
       "    <tr>\n",
       "      <th>...</th>\n",
       "      <td>...</td>\n",
       "      <td>...</td>\n",
       "      <td>...</td>\n",
       "      <td>...</td>\n",
       "      <td>...</td>\n",
       "    </tr>\n",
       "    <tr>\n",
       "      <th>200068</th>\n",
       "      <td>8877689391</td>\n",
       "      <td>5/12/2016 12:23:00 PM</td>\n",
       "      <td>8.24364</td>\n",
       "      <td>97</td>\n",
       "      <td>100.0</td>\n",
       "    </tr>\n",
       "    <tr>\n",
       "      <th>200069</th>\n",
       "      <td>8877689391</td>\n",
       "      <td>5/12/2016 12:24:00 PM</td>\n",
       "      <td>8.24364</td>\n",
       "      <td>101</td>\n",
       "      <td>97.0</td>\n",
       "    </tr>\n",
       "    <tr>\n",
       "      <th>200070</th>\n",
       "      <td>8877689391</td>\n",
       "      <td>5/12/2016 12:25:00 PM</td>\n",
       "      <td>7.75872</td>\n",
       "      <td>101</td>\n",
       "      <td>93.0</td>\n",
       "    </tr>\n",
       "    <tr>\n",
       "      <th>200071</th>\n",
       "      <td>8877689391</td>\n",
       "      <td>5/12/2016 1:54:00 PM</td>\n",
       "      <td>1.33353</td>\n",
       "      <td>0</td>\n",
       "      <td>63.0</td>\n",
       "    </tr>\n",
       "    <tr>\n",
       "      <th>200072</th>\n",
       "      <td>8877689391</td>\n",
       "      <td>5/12/2016 1:56:00 PM</td>\n",
       "      <td>1.33353</td>\n",
       "      <td>0</td>\n",
       "      <td>61.0</td>\n",
       "    </tr>\n",
       "  </tbody>\n",
       "</table>\n",
       "<p>200073 rows × 5 columns</p>\n",
       "</div>"
      ],
      "text/plain": [
       "                Id         ActivityMinute  Calories  Steps  Value\n",
       "0       2022484408   4/12/2016 7:21:00 AM   3.32064     17   97.0\n",
       "1       2022484408   4/12/2016 7:23:00 AM   1.34901      0   60.0\n",
       "2       2022484408   4/12/2016 7:24:00 AM   1.03770      0   58.0\n",
       "3       2022484408   4/12/2016 7:26:00 AM   2.49048      7   53.0\n",
       "4       2022484408   4/12/2016 7:27:00 AM   1.03770      0   53.0\n",
       "...            ...                    ...       ...    ...    ...\n",
       "200068  8877689391  5/12/2016 12:23:00 PM   8.24364     97  100.0\n",
       "200069  8877689391  5/12/2016 12:24:00 PM   8.24364    101   97.0\n",
       "200070  8877689391  5/12/2016 12:25:00 PM   7.75872    101   93.0\n",
       "200071  8877689391   5/12/2016 1:54:00 PM   1.33353      0   63.0\n",
       "200072  8877689391   5/12/2016 1:56:00 PM   1.33353      0   61.0\n",
       "\n",
       "[200073 rows x 5 columns]"
      ]
     },
     "execution_count": 20,
     "metadata": {},
     "output_type": "execute_result"
    }
   ],
   "source": [
    "minute_detail"
   ]
  },
  {
   "cell_type": "code",
   "execution_count": 25,
   "id": "8167f372-4d95-49d9-afae-c094d995eec7",
   "metadata": {},
   "outputs": [],
   "source": [
    "# Plot graph for single user\n",
    "df = minute_detail.loc[minute_detail['Id']==4388161847 ]"
   ]
  },
  {
   "cell_type": "code",
   "execution_count": 26,
   "id": "e6dbaf3b-762e-4956-907c-3f1f87c759f5",
   "metadata": {},
   "outputs": [
    {
     "data": {
      "image/png": "[encoded data removed]",
      "text/plain": [
       "<Figure size 2000x600 with 1 Axes>"
      ]
     },
     "metadata": {},
     "output_type": "display_data"
    }
   ],
   "source": [
    "from matplotlib import pyplot as plt\n",
    "\n",
    "fig, ax = plt.subplots(figsize=(20,6))\n",
    "\n",
    "# a = df.loc[df['is_anomaly'] == 1, ['Calories']] \n",
    "ax.plot(df['ActivityMinute'],df['Calories'], color='blue')\n",
    "ax.set_xlabel(\"Datetime\")\n",
    "ax.set_ylabel(\"Calories\")\n",
    "plt.show()"
   ]
  },
  {
   "cell_type": "code",
   "execution_count": null,
   "id": "a42b2205-ec37-4f1f-872d-fc9b2e87bf5d",
   "metadata": {},
   "outputs": [],
   "source": []
  },
  {
   "cell_type": "code",
   "execution_count": null,
   "id": "7497ecab-408b-4e5e-b605-f710dd19a322",
   "metadata": {},
   "outputs": [],
   "source": []
  }
 ],
 "metadata": {
  "kernelspec": {
   "display_name": "Python 3 (ipykernel)",
   "language": "python",
   "name": "python3"
  },
  "language_info": {
   "codemirror_mode": {
    "name": "ipython",
    "version": 3
   },
   "file_extension": ".py",
   "mimetype": "text/x-python",
   "name": "python",
   "nbconvert_exporter": "python",
   "pygments_lexer": "ipython3",
   "version": "3.8.10"
  }
 },
 "nbformat": 4,
 "nbformat_minor": 5
}
